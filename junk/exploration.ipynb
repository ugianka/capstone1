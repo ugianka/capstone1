{
 "cells": [
  {
   "cell_type": "code",
   "execution_count": 262,
   "metadata": {},
   "outputs": [],
   "source": [
    "from os import listdir\n",
    "from os.path import isfile, join\n",
    "import pandas as pd\n",
    "import math\n",
    "import datetime"
   ]
  },
  {
   "cell_type": "code",
   "execution_count": 269,
   "metadata": {},
   "outputs": [],
   "source": [
    "df=pd.read_csv('./work-data/train-data-cleaned.csv')"
   ]
  },
  {
   "cell_type": "code",
   "execution_count": 152,
   "metadata": {},
   "outputs": [
    {
     "data": {
      "text/plain": [
       "(810557, 11)"
      ]
     },
     "execution_count": 152,
     "metadata": {},
     "output_type": "execute_result"
    }
   ],
   "source": [
    "df.shape"
   ]
  },
  {
   "cell_type": "code",
   "execution_count": 117,
   "metadata": {},
   "outputs": [],
   "source": [
    "import seaborn as sns\n",
    "from matplotlib import pyplot as plt"
   ]
  },
  {
   "cell_type": "markdown",
   "metadata": {},
   "source": [
    "check seasonality"
   ]
  },
  {
   "cell_type": "code",
   "execution_count": 118,
   "metadata": {},
   "outputs": [
    {
     "data": {
      "text/plain": [
       "<seaborn.axisgrid.FacetGrid at 0x7fb81ea85fd0>"
      ]
     },
     "execution_count": 118,
     "metadata": {},
     "output_type": "execute_result"
    },
    {
     "data": {
      "image/png": "[encoded data removed]",
      "text/plain": [
       "<Figure size 360x360 with 1 Axes>"
      ]
     },
     "metadata": {
      "needs_background": "light"
     },
     "output_type": "display_data"
    }
   ],
   "source": [
    "sns.catplot(data=df,x='month',y='price',kind='bar')"
   ]
  },
  {
   "cell_type": "markdown",
   "metadata": {},
   "source": [
    "check for seasonality by country"
   ]
  },
  {
   "cell_type": "code",
   "execution_count": 119,
   "metadata": {},
   "outputs": [
    {
     "data": {
      "text/plain": [
       "<seaborn.axisgrid.FacetGrid at 0x7fb84b01d3d0>"
      ]
     },
     "execution_count": 119,
     "metadata": {},
     "output_type": "execute_result"
    },
    {
     "data": {
      "image/png": "[encoded data removed]",
      "text/plain": [
       "<Figure size 1080x360 with 3 Axes>"
      ]
     },
     "metadata": {
      "needs_background": "light"
     },
     "output_type": "display_data"
    }
   ],
   "source": [
    "sns.catplot(data=df,x='month',y='price',kind='bar',col='year',col_wrap=3)"
   ]
  },
  {
   "cell_type": "code",
   "execution_count": 120,
   "metadata": {},
   "outputs": [],
   "source": [
    "byMonth=df.groupby(['month','year']).sum()"
   ]
  },
  {
   "cell_type": "code",
   "execution_count": 121,
   "metadata": {},
   "outputs": [
    {
     "data": {
      "text/html": [
       "<div>\n",
       "<style scoped>\n",
       "    .dataframe tbody tr th:only-of-type {\n",
       "        vertical-align: middle;\n",
       "    }\n",
       "\n",
       "    .dataframe tbody tr th {\n",
       "        vertical-align: top;\n",
       "    }\n",
       "\n",
       "    .dataframe thead th {\n",
       "        text-align: right;\n",
       "    }\n",
       "</style>\n",
       "<table border=\"1\" class=\"dataframe\">\n",
       "  <thead>\n",
       "    <tr style=\"text-align: right;\">\n",
       "      <th></th>\n",
       "      <th>month</th>\n",
       "      <th>year</th>\n",
       "      <th>Unnamed: 0</th>\n",
       "      <th>customer_id</th>\n",
       "      <th>price</th>\n",
       "      <th>times_viewed</th>\n",
       "      <th>day</th>\n",
       "    </tr>\n",
       "  </thead>\n",
       "  <tbody>\n",
       "    <tr>\n",
       "      <td>17</td>\n",
       "      <td>11</td>\n",
       "      <td>2017</td>\n",
       "      <td>36286718</td>\n",
       "      <td>87751980.0</td>\n",
       "      <td>27860.08</td>\n",
       "      <td>36706</td>\n",
       "      <td>220016</td>\n",
       "    </tr>\n",
       "    <tr>\n",
       "      <td>19</td>\n",
       "      <td>12</td>\n",
       "      <td>2017</td>\n",
       "      <td>500265555</td>\n",
       "      <td>301287137.0</td>\n",
       "      <td>104965.64</td>\n",
       "      <td>133104</td>\n",
       "      <td>264023</td>\n",
       "    </tr>\n",
       "    <tr>\n",
       "      <td>0</td>\n",
       "      <td>1</td>\n",
       "      <td>2018</td>\n",
       "      <td>501133737</td>\n",
       "      <td>310714403.0</td>\n",
       "      <td>93811.55</td>\n",
       "      <td>141752</td>\n",
       "      <td>476847</td>\n",
       "    </tr>\n",
       "    <tr>\n",
       "      <td>2</td>\n",
       "      <td>2</td>\n",
       "      <td>2018</td>\n",
       "      <td>361545352</td>\n",
       "      <td>305284760.0</td>\n",
       "      <td>81055.01</td>\n",
       "      <td>130741</td>\n",
       "      <td>373249</td>\n",
       "    </tr>\n",
       "    <tr>\n",
       "      <td>4</td>\n",
       "      <td>3</td>\n",
       "      <td>2018</td>\n",
       "      <td>618138248</td>\n",
       "      <td>394654478.0</td>\n",
       "      <td>110738.00</td>\n",
       "      <td>168161</td>\n",
       "      <td>504878</td>\n",
       "    </tr>\n",
       "    <tr>\n",
       "      <td>6</td>\n",
       "      <td>4</td>\n",
       "      <td>2018</td>\n",
       "      <td>463162817</td>\n",
       "      <td>355602298.0</td>\n",
       "      <td>95483.58</td>\n",
       "      <td>157814</td>\n",
       "      <td>455261</td>\n",
       "    </tr>\n",
       "    <tr>\n",
       "      <td>8</td>\n",
       "      <td>5</td>\n",
       "      <td>2018</td>\n",
       "      <td>620408605</td>\n",
       "      <td>415831947.0</td>\n",
       "      <td>112414.74</td>\n",
       "      <td>176582</td>\n",
       "      <td>486705</td>\n",
       "    </tr>\n",
       "    <tr>\n",
       "      <td>10</td>\n",
       "      <td>6</td>\n",
       "      <td>2018</td>\n",
       "      <td>642927175</td>\n",
       "      <td>416244746.0</td>\n",
       "      <td>112585.99</td>\n",
       "      <td>177125</td>\n",
       "      <td>485393</td>\n",
       "    </tr>\n",
       "    <tr>\n",
       "      <td>12</td>\n",
       "      <td>7</td>\n",
       "      <td>2018</td>\n",
       "      <td>503394038</td>\n",
       "      <td>375154622.0</td>\n",
       "      <td>103720.24</td>\n",
       "      <td>162969</td>\n",
       "      <td>467547</td>\n",
       "    </tr>\n",
       "    <tr>\n",
       "      <td>14</td>\n",
       "      <td>8</td>\n",
       "      <td>2018</td>\n",
       "      <td>481826305</td>\n",
       "      <td>357121198.0</td>\n",
       "      <td>94004.07</td>\n",
       "      <td>167474</td>\n",
       "      <td>464044</td>\n",
       "    </tr>\n",
       "    <tr>\n",
       "      <td>15</td>\n",
       "      <td>9</td>\n",
       "      <td>2018</td>\n",
       "      <td>796638628</td>\n",
       "      <td>492534182.0</td>\n",
       "      <td>115437.88</td>\n",
       "      <td>226720</td>\n",
       "      <td>647994</td>\n",
       "    </tr>\n",
       "    <tr>\n",
       "      <td>16</td>\n",
       "      <td>10</td>\n",
       "      <td>2018</td>\n",
       "      <td>1686947807</td>\n",
       "      <td>713270014.0</td>\n",
       "      <td>174096.25</td>\n",
       "      <td>304790</td>\n",
       "      <td>858464</td>\n",
       "    </tr>\n",
       "    <tr>\n",
       "      <td>18</td>\n",
       "      <td>11</td>\n",
       "      <td>2018</td>\n",
       "      <td>3264178733</td>\n",
       "      <td>919941627.0</td>\n",
       "      <td>258935.52</td>\n",
       "      <td>380199</td>\n",
       "      <td>1268258</td>\n",
       "    </tr>\n",
       "    <tr>\n",
       "      <td>20</td>\n",
       "      <td>12</td>\n",
       "      <td>2018</td>\n",
       "      <td>1095739969</td>\n",
       "      <td>430948318.0</td>\n",
       "      <td>166955.66</td>\n",
       "      <td>195695</td>\n",
       "      <td>323243</td>\n",
       "    </tr>\n",
       "    <tr>\n",
       "      <td>1</td>\n",
       "      <td>1</td>\n",
       "      <td>2019</td>\n",
       "      <td>660956069</td>\n",
       "      <td>339114898.0</td>\n",
       "      <td>113261.02</td>\n",
       "      <td>168690</td>\n",
       "      <td>516217</td>\n",
       "    </tr>\n",
       "    <tr>\n",
       "      <td>3</td>\n",
       "      <td>2</td>\n",
       "      <td>2019</td>\n",
       "      <td>332531509</td>\n",
       "      <td>277069866.0</td>\n",
       "      <td>86782.98</td>\n",
       "      <td>132249</td>\n",
       "      <td>381687</td>\n",
       "    </tr>\n",
       "    <tr>\n",
       "      <td>5</td>\n",
       "      <td>3</td>\n",
       "      <td>2019</td>\n",
       "      <td>543322383</td>\n",
       "      <td>363196413.0</td>\n",
       "      <td>106536.53</td>\n",
       "      <td>165224</td>\n",
       "      <td>510872</td>\n",
       "    </tr>\n",
       "    <tr>\n",
       "      <td>7</td>\n",
       "      <td>4</td>\n",
       "      <td>2019</td>\n",
       "      <td>394236639</td>\n",
       "      <td>312413173.0</td>\n",
       "      <td>88366.35</td>\n",
       "      <td>145005</td>\n",
       "      <td>353705</td>\n",
       "    </tr>\n",
       "    <tr>\n",
       "      <td>9</td>\n",
       "      <td>5</td>\n",
       "      <td>2019</td>\n",
       "      <td>686239096</td>\n",
       "      <td>415623179.0</td>\n",
       "      <td>122403.49</td>\n",
       "      <td>197197</td>\n",
       "      <td>512456</td>\n",
       "    </tr>\n",
       "    <tr>\n",
       "      <td>11</td>\n",
       "      <td>6</td>\n",
       "      <td>2019</td>\n",
       "      <td>540022329</td>\n",
       "      <td>376088987.0</td>\n",
       "      <td>104005.25</td>\n",
       "      <td>171060</td>\n",
       "      <td>449485</td>\n",
       "    </tr>\n",
       "    <tr>\n",
       "      <td>13</td>\n",
       "      <td>7</td>\n",
       "      <td>2019</td>\n",
       "      <td>788029277</td>\n",
       "      <td>404217001.0</td>\n",
       "      <td>114318.91</td>\n",
       "      <td>204796</td>\n",
       "      <td>561690</td>\n",
       "    </tr>\n",
       "  </tbody>\n",
       "</table>\n",
       "</div>"
      ],
      "text/plain": [
       "    month  year  Unnamed: 0  customer_id      price  times_viewed      day\n",
       "17     11  2017    36286718   87751980.0   27860.08         36706   220016\n",
       "19     12  2017   500265555  301287137.0  104965.64        133104   264023\n",
       "0       1  2018   501133737  310714403.0   93811.55        141752   476847\n",
       "2       2  2018   361545352  305284760.0   81055.01        130741   373249\n",
       "4       3  2018   618138248  394654478.0  110738.00        168161   504878\n",
       "6       4  2018   463162817  355602298.0   95483.58        157814   455261\n",
       "8       5  2018   620408605  415831947.0  112414.74        176582   486705\n",
       "10      6  2018   642927175  416244746.0  112585.99        177125   485393\n",
       "12      7  2018   503394038  375154622.0  103720.24        162969   467547\n",
       "14      8  2018   481826305  357121198.0   94004.07        167474   464044\n",
       "15      9  2018   796638628  492534182.0  115437.88        226720   647994\n",
       "16     10  2018  1686947807  713270014.0  174096.25        304790   858464\n",
       "18     11  2018  3264178733  919941627.0  258935.52        380199  1268258\n",
       "20     12  2018  1095739969  430948318.0  166955.66        195695   323243\n",
       "1       1  2019   660956069  339114898.0  113261.02        168690   516217\n",
       "3       2  2019   332531509  277069866.0   86782.98        132249   381687\n",
       "5       3  2019   543322383  363196413.0  106536.53        165224   510872\n",
       "7       4  2019   394236639  312413173.0   88366.35        145005   353705\n",
       "9       5  2019   686239096  415623179.0  122403.49        197197   512456\n",
       "11      6  2019   540022329  376088987.0  104005.25        171060   449485\n",
       "13      7  2019   788029277  404217001.0  114318.91        204796   561690"
      ]
     },
     "execution_count": 121,
     "metadata": {},
     "output_type": "execute_result"
    }
   ],
   "source": [
    "byMonth=byMonth.reset_index()\n",
    "byMonth=byMonth.sort_values(by=['year','month'],axis=0)\n",
    "byMonth"
   ]
  },
  {
   "cell_type": "code",
   "execution_count": 122,
   "metadata": {},
   "outputs": [
    {
     "data": {
      "text/plain": [
       "<matplotlib.axes._subplots.AxesSubplot at 0x7fb834233e10>"
      ]
     },
     "execution_count": 122,
     "metadata": {},
     "output_type": "execute_result"
    },
    {
     "data": {
      "image/png": "[encoded data removed]",
      "text/plain": [
       "<Figure size 1080x1440 with 1 Axes>"
      ]
     },
     "metadata": {
      "needs_background": "light"
     },
     "output_type": "display_data"
    }
   ],
   "source": [
    "fig, ax = plt.subplots(figsize=(15,20))\n",
    "sns.lineplot(x=byMonth['year']*100+byMonth['month'],y=byMonth['price'],ax=ax)"
   ]
  },
  {
   "cell_type": "code",
   "execution_count": 123,
   "metadata": {},
   "outputs": [],
   "source": [
    "dfCount=df.groupby('country').count()\n",
    "dfCount=dfCount.reset_index()\n",
    "dfCount=dfCount.sort_values(by=['price'],ascending=False)\n",
    "dfCount=dfCount[dfCount.price>1500]\n",
    "major_countries=dfCount.country.astype(str).unique()"
   ]
  },
  {
   "cell_type": "code",
   "execution_count": 124,
   "metadata": {},
   "outputs": [],
   "source": [
    "byCountry=df[df.country.isin(major_countries) ].groupby(['month','year','country']).sum()"
   ]
  },
  {
   "cell_type": "code",
   "execution_count": 125,
   "metadata": {},
   "outputs": [],
   "source": [
    "byCountry=byCountry.reset_index()\n",
    "byCountry['year_month']=byCountry['year']*100+byCountry['month']"
   ]
  },
  {
   "cell_type": "code",
   "execution_count": 162,
   "metadata": {},
   "outputs": [
    {
     "data": {
      "text/plain": [
       "<seaborn.axisgrid.FacetGrid at 0x7fb7f14b7310>"
      ]
     },
     "execution_count": 162,
     "metadata": {},
     "output_type": "execute_result"
    },
    {
     "data": {
      "image/png": "[encoded data removed]",
      "text/plain": [
       "<Figure size 360x2880 with 8 Axes>"
      ]
     },
     "metadata": {
      "needs_background": "light"
     },
     "output_type": "display_data"
    }
   ],
   "source": [
    "sns.catplot(data=byCountry[~byCountry.isin(['United Kingdom'])],x='year_month',y='price',col='country',col_wrap=1,kind='bar')"
   ]
  },
  {
   "cell_type": "code",
   "execution_count": 157,
   "metadata": {},
   "outputs": [
    {
     "data": {
      "text/plain": [
       "<seaborn.axisgrid.FacetGrid at 0x7fb7ebd37050>"
      ]
     },
     "execution_count": 157,
     "metadata": {},
     "output_type": "execute_result"
    },
    {
     "data": {
      "image/png": "[encoded data removed]",
      "text/plain": [
       "<Figure size 360x360 with 1 Axes>"
      ]
     },
     "metadata": {
      "needs_background": "light"
     },
     "output_type": "display_data"
    }
   ],
   "source": [
    "sns.catplot(data=dfmaj,x='country',kind='count')"
   ]
  },
  {
   "cell_type": "code",
   "execution_count": 160,
   "metadata": {},
   "outputs": [
    {
     "data": {
      "image/png": "[encoded data removed]",
      "text/plain": [
       "<Figure size 1800x720 with 1 Axes>"
      ]
     },
     "metadata": {
      "needs_background": "light"
     },
     "output_type": "display_data"
    },
    {
     "data": {
      "image/png": "[encoded data removed]",
      "text/plain": [
       "<Figure size 360x360 with 1 Axes>"
      ]
     },
     "metadata": {
      "needs_background": "light"
     },
     "output_type": "display_data"
    }
   ],
   "source": [
    "fig,ax=plt.subplots(1,1,figsize=[25,10])\n",
    "ax.set_title('number of visualizations by country')\n",
    "dfmaj=df[df.country.isin(major_countries)]\n",
    "sns.catplot(data=dfmaj,x='country',kind='count',ax=ax)\n",
    "plt.show()"
   ]
  },
  {
   "cell_type": "code",
   "execution_count": 164,
   "metadata": {},
   "outputs": [
    {
     "data": {
      "image/png": "[encoded data removed]",
      "text/plain": [
       "<Figure size 1440x360 with 1 Axes>"
      ]
     },
     "metadata": {
      "needs_background": "light"
     },
     "output_type": "display_data"
    },
    {
     "data": {
      "image/png": "[encoded data removed]",
      "text/plain": [
       "<Figure size 360x360 with 1 Axes>"
      ]
     },
     "metadata": {
      "needs_background": "light"
     },
     "output_type": "display_data"
    }
   ],
   "source": [
    "fig,ax=plt.subplots(1,1,figsize=[20,5])\n",
    "ax.set_title('revenue in United Kingdom by monyh')\n",
    "sns.catplot(data=byCountry[byCountry.country.isin(['United Kingdom'])],x='year_month',\n",
    "            col='country',col_wrap=1,\n",
    "            y='price',kind='bar',ax=ax)\n",
    "plt.show()"
   ]
  },
  {
   "cell_type": "code",
   "execution_count": null,
   "metadata": {},
   "outputs": [],
   "source": []
  },
  {
   "cell_type": "code",
   "execution_count": 128,
   "metadata": {},
   "outputs": [
    {
     "data": {
      "text/plain": [
       "<seaborn.axisgrid.FacetGrid at 0x7fb827f61bd0>"
      ]
     },
     "execution_count": 128,
     "metadata": {},
     "output_type": "execute_result"
    },
    {
     "data": {
      "image/png": "[encoded data removed]",
      "text/plain": [
       "<Figure size 720x1440 with 1 Axes>"
      ]
     },
     "metadata": {
      "needs_background": "light"
     },
     "output_type": "display_data"
    },
    {
     "data": {
      "image/png": "[encoded data removed]",
      "text/plain": [
       "<Figure size 360x360 with 1 Axes>"
      ]
     },
     "metadata": {
      "needs_background": "light"
     },
     "output_type": "display_data"
    }
   ],
   "source": [
    "fig,ax=plt.subplots(figsize=[10,20])\n",
    "ax.set_title='mean price per user'\n",
    "sns.catplot(data=df[df.country.isin(major_countries)],x='country',y='price',kind='bar',ax=ax)"
   ]
  },
  {
   "cell_type": "code",
   "execution_count": 129,
   "metadata": {},
   "outputs": [
    {
     "data": {
      "text/plain": [
       "<seaborn.axisgrid.FacetGrid at 0x7fb80b47bf50>"
      ]
     },
     "execution_count": 129,
     "metadata": {},
     "output_type": "execute_result"
    },
    {
     "data": {
      "image/png": "[encoded data removed]",
      "text/plain": [
       "<Figure size 720x1440 with 1 Axes>"
      ]
     },
     "metadata": {
      "needs_background": "light"
     },
     "output_type": "display_data"
    },
    {
     "data": {
      "image/png": "[encoded data removed]",
      "text/plain": [
       "<Figure size 360x360 with 1 Axes>"
      ]
     },
     "metadata": {
      "needs_background": "light"
     },
     "output_type": "display_data"
    }
   ],
   "source": [
    "fig,ax=plt.subplots(figsize=[10,20])\n",
    "ax.set_title='mean price per user'\n",
    "sns.catplot(data=df[df.country.isin(major_countries)],x='country',y='price',kind='bar',ax=ax)"
   ]
  },
  {
   "cell_type": "code",
   "execution_count": 131,
   "metadata": {},
   "outputs": [
    {
     "data": {
      "text/plain": [
       "<matplotlib.axes._subplots.AxesSubplot at 0x7fb80b4cca50>"
      ]
     },
     "execution_count": 131,
     "metadata": {},
     "output_type": "execute_result"
    },
    {
     "data": {
      "image/png": "[encoded data removed]",
      "text/plain": [
       "<Figure size 432x288 with 1 Axes>"
      ]
     },
     "metadata": {
      "needs_background": "light"
     },
     "output_type": "display_data"
    }
   ],
   "source": [
    "sns.distplot(df['price'])"
   ]
  },
  {
   "cell_type": "code",
   "execution_count": 133,
   "metadata": {},
   "outputs": [
    {
     "data": {
      "text/html": [
       "<div>\n",
       "<style scoped>\n",
       "    .dataframe tbody tr th:only-of-type {\n",
       "        vertical-align: middle;\n",
       "    }\n",
       "\n",
       "    .dataframe tbody tr th {\n",
       "        vertical-align: top;\n",
       "    }\n",
       "\n",
       "    .dataframe thead th {\n",
       "        text-align: right;\n",
       "    }\n",
       "</style>\n",
       "<table border=\"1\" class=\"dataframe\">\n",
       "  <thead>\n",
       "    <tr style=\"text-align: right;\">\n",
       "      <th></th>\n",
       "      <th>Unnamed: 0</th>\n",
       "      <th>country</th>\n",
       "      <th>customer_id</th>\n",
       "      <th>invoice</th>\n",
       "      <th>price</th>\n",
       "      <th>stream_id</th>\n",
       "      <th>times_viewed</th>\n",
       "      <th>year</th>\n",
       "      <th>month</th>\n",
       "      <th>day</th>\n",
       "      <th>date</th>\n",
       "    </tr>\n",
       "  </thead>\n",
       "  <tbody>\n",
       "    <tr>\n",
       "      <td>489361</td>\n",
       "      <td>9035</td>\n",
       "      <td>United Kingdom</td>\n",
       "      <td>NaN</td>\n",
       "      <td>507637</td>\n",
       "      <td>1157.15</td>\n",
       "      <td>84016</td>\n",
       "      <td>1</td>\n",
       "      <td>2018</td>\n",
       "      <td>5</td>\n",
       "      <td>7</td>\n",
       "      <td>2018-05-07</td>\n",
       "    </tr>\n",
       "    <tr>\n",
       "      <td>727056</td>\n",
       "      <td>25093</td>\n",
       "      <td>United Kingdom</td>\n",
       "      <td>NaN</td>\n",
       "      <td>502451</td>\n",
       "      <td>867.79</td>\n",
       "      <td>84016</td>\n",
       "      <td>1</td>\n",
       "      <td>2018</td>\n",
       "      <td>3</td>\n",
       "      <td>21</td>\n",
       "      <td>2018-03-21</td>\n",
       "    </tr>\n",
       "    <tr>\n",
       "      <td>240080</td>\n",
       "      <td>9316</td>\n",
       "      <td>United Kingdom</td>\n",
       "      <td>15098.0</td>\n",
       "      <td>556446</td>\n",
       "      <td>649.50</td>\n",
       "      <td>22502</td>\n",
       "      <td>1</td>\n",
       "      <td>2019</td>\n",
       "      <td>6</td>\n",
       "      <td>7</td>\n",
       "      <td>2019-06-07</td>\n",
       "    </tr>\n",
       "    <tr>\n",
       "      <td>240078</td>\n",
       "      <td>9314</td>\n",
       "      <td>United Kingdom</td>\n",
       "      <td>15098.0</td>\n",
       "      <td>556444</td>\n",
       "      <td>649.50</td>\n",
       "      <td>22502</td>\n",
       "      <td>1</td>\n",
       "      <td>2019</td>\n",
       "      <td>6</td>\n",
       "      <td>7</td>\n",
       "      <td>2019-06-07</td>\n",
       "    </tr>\n",
       "    <tr>\n",
       "      <td>600919</td>\n",
       "      <td>32036</td>\n",
       "      <td>United Kingdom</td>\n",
       "      <td>NaN</td>\n",
       "      <td>506571</td>\n",
       "      <td>408.40</td>\n",
       "      <td>84016</td>\n",
       "      <td>1</td>\n",
       "      <td>2018</td>\n",
       "      <td>4</td>\n",
       "      <td>27</td>\n",
       "      <td>2018-04-27</td>\n",
       "    </tr>\n",
       "    <tr>\n",
       "      <td>...</td>\n",
       "      <td>...</td>\n",
       "      <td>...</td>\n",
       "      <td>...</td>\n",
       "      <td>...</td>\n",
       "      <td>...</td>\n",
       "      <td>...</td>\n",
       "      <td>...</td>\n",
       "      <td>...</td>\n",
       "      <td>...</td>\n",
       "      <td>...</td>\n",
       "      <td>...</td>\n",
       "    </tr>\n",
       "    <tr>\n",
       "      <td>694298</td>\n",
       "      <td>19753</td>\n",
       "      <td>United Kingdom</td>\n",
       "      <td>17139.0</td>\n",
       "      <td>544824</td>\n",
       "      <td>165.00</td>\n",
       "      <td>22827</td>\n",
       "      <td>1</td>\n",
       "      <td>2019</td>\n",
       "      <td>2</td>\n",
       "      <td>21</td>\n",
       "      <td>2019-02-21</td>\n",
       "    </tr>\n",
       "    <tr>\n",
       "      <td>631208</td>\n",
       "      <td>29142</td>\n",
       "      <td>United Kingdom</td>\n",
       "      <td>13523.0</td>\n",
       "      <td>554348</td>\n",
       "      <td>165.00</td>\n",
       "      <td>22827</td>\n",
       "      <td>1</td>\n",
       "      <td>2019</td>\n",
       "      <td>5</td>\n",
       "      <td>21</td>\n",
       "      <td>2019-05-21</td>\n",
       "    </tr>\n",
       "    <tr>\n",
       "      <td>262862</td>\n",
       "      <td>32098</td>\n",
       "      <td>United Kingdom</td>\n",
       "      <td>14711.0</td>\n",
       "      <td>558627</td>\n",
       "      <td>165.00</td>\n",
       "      <td>22827</td>\n",
       "      <td>1</td>\n",
       "      <td>2019</td>\n",
       "      <td>6</td>\n",
       "      <td>27</td>\n",
       "      <td>2019-06-27</td>\n",
       "    </tr>\n",
       "    <tr>\n",
       "      <td>163715</td>\n",
       "      <td>53186</td>\n",
       "      <td>Netherlands</td>\n",
       "      <td>14646.0</td>\n",
       "      <td>C534845</td>\n",
       "      <td>150.00</td>\n",
       "      <td>22656</td>\n",
       "      <td>3</td>\n",
       "      <td>2018</td>\n",
       "      <td>11</td>\n",
       "      <td>21</td>\n",
       "      <td>2018-11-21</td>\n",
       "    </tr>\n",
       "    <tr>\n",
       "      <td>628249</td>\n",
       "      <td>26183</td>\n",
       "      <td>United Kingdom</td>\n",
       "      <td>12909.0</td>\n",
       "      <td>554084</td>\n",
       "      <td>145.00</td>\n",
       "      <td>22827</td>\n",
       "      <td>2</td>\n",
       "      <td>2019</td>\n",
       "      <td>5</td>\n",
       "      <td>19</td>\n",
       "      <td>2019-05-19</td>\n",
       "    </tr>\n",
       "  </tbody>\n",
       "</table>\n",
       "<p>100 rows × 11 columns</p>\n",
       "</div>"
      ],
      "text/plain": [
       "        Unnamed: 0         country  customer_id  invoice    price stream_id  \\\n",
       "489361        9035  United Kingdom          NaN   507637  1157.15     84016   \n",
       "727056       25093  United Kingdom          NaN   502451   867.79     84016   \n",
       "240080        9316  United Kingdom      15098.0   556446   649.50     22502   \n",
       "240078        9314  United Kingdom      15098.0   556444   649.50     22502   \n",
       "600919       32036  United Kingdom          NaN   506571   408.40     84016   \n",
       "...            ...             ...          ...      ...      ...       ...   \n",
       "694298       19753  United Kingdom      17139.0   544824   165.00     22827   \n",
       "631208       29142  United Kingdom      13523.0   554348   165.00     22827   \n",
       "262862       32098  United Kingdom      14711.0   558627   165.00     22827   \n",
       "163715       53186     Netherlands      14646.0  C534845   150.00     22656   \n",
       "628249       26183  United Kingdom      12909.0   554084   145.00     22827   \n",
       "\n",
       "        times_viewed  year  month  day        date  \n",
       "489361             1  2018      5    7  2018-05-07  \n",
       "727056             1  2018      3   21  2018-03-21  \n",
       "240080             1  2019      6    7  2019-06-07  \n",
       "240078             1  2019      6    7  2019-06-07  \n",
       "600919             1  2018      4   27  2018-04-27  \n",
       "...              ...   ...    ...  ...         ...  \n",
       "694298             1  2019      2   21  2019-02-21  \n",
       "631208             1  2019      5   21  2019-05-21  \n",
       "262862             1  2019      6   27  2019-06-27  \n",
       "163715             3  2018     11   21  2018-11-21  \n",
       "628249             2  2019      5   19  2019-05-19  \n",
       "\n",
       "[100 rows x 11 columns]"
      ]
     },
     "execution_count": 133,
     "metadata": {},
     "output_type": "execute_result"
    }
   ],
   "source": [
    "df.sort_values(by=['price'],ascending=False).head(100)"
   ]
  },
  {
   "cell_type": "code",
   "execution_count": 134,
   "metadata": {},
   "outputs": [
    {
     "data": {
      "text/plain": [
       "<matplotlib.axes._subplots.AxesSubplot at 0x7fb80b4c5b10>"
      ]
     },
     "execution_count": 134,
     "metadata": {},
     "output_type": "execute_result"
    },
    {
     "data": {
      "image/png": "[encoded data removed]",
      "text/plain": [
       "<Figure size 432x288 with 2 Axes>"
      ]
     },
     "metadata": {
      "needs_background": "light"
     },
     "output_type": "display_data"
    }
   ],
   "source": [
    "sns.heatmap(df.corr())"
   ]
  },
  {
   "cell_type": "code",
   "execution_count": 172,
   "metadata": {},
   "outputs": [
    {
     "data": {
      "text/html": [
       "<div>\n",
       "<style scoped>\n",
       "    .dataframe tbody tr th:only-of-type {\n",
       "        vertical-align: middle;\n",
       "    }\n",
       "\n",
       "    .dataframe tbody tr th {\n",
       "        vertical-align: top;\n",
       "    }\n",
       "\n",
       "    .dataframe thead th {\n",
       "        text-align: right;\n",
       "    }\n",
       "</style>\n",
       "<table border=\"1\" class=\"dataframe\">\n",
       "  <thead>\n",
       "    <tr style=\"text-align: right;\">\n",
       "      <th></th>\n",
       "      <th>month</th>\n",
       "      <th>year</th>\n",
       "      <th>revenue</th>\n",
       "      <th>year_month</th>\n",
       "    </tr>\n",
       "  </thead>\n",
       "  <tbody>\n",
       "    <tr>\n",
       "      <td>17</td>\n",
       "      <td>11</td>\n",
       "      <td>2017</td>\n",
       "      <td>35138.30</td>\n",
       "      <td>201711</td>\n",
       "    </tr>\n",
       "    <tr>\n",
       "      <td>19</td>\n",
       "      <td>12</td>\n",
       "      <td>2017</td>\n",
       "      <td>134871.22</td>\n",
       "      <td>201712</td>\n",
       "    </tr>\n",
       "    <tr>\n",
       "      <td>0</td>\n",
       "      <td>1</td>\n",
       "      <td>2018</td>\n",
       "      <td>121691.33</td>\n",
       "      <td>201801</td>\n",
       "    </tr>\n",
       "    <tr>\n",
       "      <td>2</td>\n",
       "      <td>2</td>\n",
       "      <td>2018</td>\n",
       "      <td>99814.63</td>\n",
       "      <td>201802</td>\n",
       "    </tr>\n",
       "    <tr>\n",
       "      <td>4</td>\n",
       "      <td>3</td>\n",
       "      <td>2018</td>\n",
       "      <td>134108.12</td>\n",
       "      <td>201803</td>\n",
       "    </tr>\n",
       "    <tr>\n",
       "      <td>6</td>\n",
       "      <td>4</td>\n",
       "      <td>2018</td>\n",
       "      <td>113826.26</td>\n",
       "      <td>201804</td>\n",
       "    </tr>\n",
       "    <tr>\n",
       "      <td>8</td>\n",
       "      <td>5</td>\n",
       "      <td>2018</td>\n",
       "      <td>134929.76</td>\n",
       "      <td>201805</td>\n",
       "    </tr>\n",
       "    <tr>\n",
       "      <td>10</td>\n",
       "      <td>6</td>\n",
       "      <td>2018</td>\n",
       "      <td>135627.17</td>\n",
       "      <td>201806</td>\n",
       "    </tr>\n",
       "    <tr>\n",
       "      <td>12</td>\n",
       "      <td>7</td>\n",
       "      <td>2018</td>\n",
       "      <td>121644.24</td>\n",
       "      <td>201807</td>\n",
       "    </tr>\n",
       "    <tr>\n",
       "      <td>14</td>\n",
       "      <td>8</td>\n",
       "      <td>2018</td>\n",
       "      <td>110285.08</td>\n",
       "      <td>201808</td>\n",
       "    </tr>\n",
       "    <tr>\n",
       "      <td>15</td>\n",
       "      <td>9</td>\n",
       "      <td>2018</td>\n",
       "      <td>132109.83</td>\n",
       "      <td>201809</td>\n",
       "    </tr>\n",
       "    <tr>\n",
       "      <td>16</td>\n",
       "      <td>10</td>\n",
       "      <td>2018</td>\n",
       "      <td>197904.47</td>\n",
       "      <td>201810</td>\n",
       "    </tr>\n",
       "    <tr>\n",
       "      <td>18</td>\n",
       "      <td>11</td>\n",
       "      <td>2018</td>\n",
       "      <td>293296.66</td>\n",
       "      <td>201811</td>\n",
       "    </tr>\n",
       "    <tr>\n",
       "      <td>20</td>\n",
       "      <td>12</td>\n",
       "      <td>2018</td>\n",
       "      <td>189961.12</td>\n",
       "      <td>201812</td>\n",
       "    </tr>\n",
       "    <tr>\n",
       "      <td>1</td>\n",
       "      <td>1</td>\n",
       "      <td>2019</td>\n",
       "      <td>131127.36</td>\n",
       "      <td>201901</td>\n",
       "    </tr>\n",
       "    <tr>\n",
       "      <td>3</td>\n",
       "      <td>2</td>\n",
       "      <td>2019</td>\n",
       "      <td>97531.93</td>\n",
       "      <td>201902</td>\n",
       "    </tr>\n",
       "    <tr>\n",
       "      <td>5</td>\n",
       "      <td>3</td>\n",
       "      <td>2019</td>\n",
       "      <td>119156.91</td>\n",
       "      <td>201903</td>\n",
       "    </tr>\n",
       "    <tr>\n",
       "      <td>7</td>\n",
       "      <td>4</td>\n",
       "      <td>2019</td>\n",
       "      <td>99040.26</td>\n",
       "      <td>201904</td>\n",
       "    </tr>\n",
       "    <tr>\n",
       "      <td>9</td>\n",
       "      <td>5</td>\n",
       "      <td>2019</td>\n",
       "      <td>135489.70</td>\n",
       "      <td>201905</td>\n",
       "    </tr>\n",
       "    <tr>\n",
       "      <td>11</td>\n",
       "      <td>6</td>\n",
       "      <td>2019</td>\n",
       "      <td>115392.63</td>\n",
       "      <td>201906</td>\n",
       "    </tr>\n",
       "    <tr>\n",
       "      <td>13</td>\n",
       "      <td>7</td>\n",
       "      <td>2019</td>\n",
       "      <td>128090.42</td>\n",
       "      <td>201907</td>\n",
       "    </tr>\n",
       "  </tbody>\n",
       "</table>\n",
       "</div>"
      ],
      "text/plain": [
       "    month  year    revenue  year_month\n",
       "17     11  2017   35138.30      201711\n",
       "19     12  2017  134871.22      201712\n",
       "0       1  2018  121691.33      201801\n",
       "2       2  2018   99814.63      201802\n",
       "4       3  2018  134108.12      201803\n",
       "6       4  2018  113826.26      201804\n",
       "8       5  2018  134929.76      201805\n",
       "10      6  2018  135627.17      201806\n",
       "12      7  2018  121644.24      201807\n",
       "14      8  2018  110285.08      201808\n",
       "15      9  2018  132109.83      201809\n",
       "16     10  2018  197904.47      201810\n",
       "18     11  2018  293296.66      201811\n",
       "20     12  2018  189961.12      201812\n",
       "1       1  2019  131127.36      201901\n",
       "3       2  2019   97531.93      201902\n",
       "5       3  2019  119156.91      201903\n",
       "7       4  2019   99040.26      201904\n",
       "9       5  2019  135489.70      201905\n",
       "11      6  2019  115392.63      201906\n",
       "13      7  2019  128090.42      201907"
      ]
     },
     "execution_count": 172,
     "metadata": {},
     "output_type": "execute_result"
    }
   ],
   "source": [
    "byMonth=df.groupby(['month','year']).sum()\n",
    "byMonth=byMonth.reset_index()\n",
    "byMonth=byMonth.sort_values(by=['year','month'],axis=0)\n",
    "byMonth.rename(columns={'price':'revenue'},inplace=True)\n",
    "byMonth=byMonth[['month','year','revenue']]\n",
    "byMonth['year_month']=byMonth.year*100+byMonth.month\n",
    "byMonth"
   ]
  },
  {
   "cell_type": "code",
   "execution_count": 246,
   "metadata": {},
   "outputs": [
    {
     "data": {
      "image/png": "[encoded data removed]",
      "text/plain": [
       "<Figure size 864x576 with 1 Axes>"
      ]
     },
     "metadata": {
      "needs_background": "light"
     },
     "output_type": "display_data"
    }
   ],
   "source": [
    "import matplotlib\n",
    "fig = plt.gcf()\n",
    "fig.set_size_inches(12, 8)\n",
    "colors = [\"#11BBDD\"]\n",
    "revenue_by_month=sns.barplot(x=byMonth.year_month,y=byMonth.revenue,palette=sns.color_palette(colors),edgecolor='#FF0000')\n",
    "for item in revenue_by_month.get_xticklabels():\n",
    "    item.set_rotation(45)"
   ]
  },
  {
   "cell_type": "code",
   "execution_count": 244,
   "metadata": {},
   "outputs": [
    {
     "data": {
      "text/plain": [
       "Text(0.5, 1.0, 'views by country')"
      ]
     },
     "execution_count": 244,
     "metadata": {},
     "output_type": "execute_result"
    },
    {
     "data": {
      "image/png": "[encoded data removed]",
      "text/plain": [
       "<Figure size 864x576 with 1 Axes>"
      ]
     },
     "metadata": {
      "needs_background": "light"
     },
     "output_type": "display_data"
    }
   ],
   "source": [
    "fig = plt.gcf()\n",
    "fig.set_size_inches(12, 8)\n",
    "colors = [\"#11BBDD\"]\n",
    "dfv=df[['country','price']]\n",
    "dfv=dfv.groupby(['country']).count()\n",
    "dfv=dfv.reset_index()\n",
    "dfv.rename(columns={'price':'views'},inplace=True)\n",
    "dfv=dfv.sort_values(by=['views'],ascending=False)\n",
    "dfv=dfv[dfv.views>1500]\n",
    "views_by_country=sns.barplot(data=dfv,x='country',y='views',palette=sns.color_palette(colors))\n",
    "for item in views_by_country.get_xticklabels():\n",
    "    item.set_rotation(45)\n",
    "views_by_country.set_title('views by country')"
   ]
  },
  {
   "cell_type": "code",
   "execution_count": 243,
   "metadata": {},
   "outputs": [
    {
     "data": {
      "image/png": "[encoded data removed]",
      "text/plain": [
       "<Figure size 432x288 with 1 Axes>"
      ]
     },
     "metadata": {
      "needs_background": "light"
     },
     "output_type": "display_data"
    }
   ],
   "source": []
  },
  {
   "cell_type": "code",
   "execution_count": 249,
   "metadata": {},
   "outputs": [],
   "source": [
    "ddays=df.groupby(['year','month','day']).count()"
   ]
  },
  {
   "cell_type": "code",
   "execution_count": 251,
   "metadata": {},
   "outputs": [
    {
     "data": {
      "text/plain": [
       "(495, 8)"
      ]
     },
     "execution_count": 251,
     "metadata": {},
     "output_type": "execute_result"
    }
   ],
   "source": [
    "ddays.shape"
   ]
  },
  {
   "cell_type": "code",
   "execution_count": 295,
   "metadata": {},
   "outputs": [
    {
     "data": {
      "text/html": [
       "<div>\n",
       "<style scoped>\n",
       "    .dataframe tbody tr th:only-of-type {\n",
       "        vertical-align: middle;\n",
       "    }\n",
       "\n",
       "    .dataframe tbody tr th {\n",
       "        vertical-align: top;\n",
       "    }\n",
       "\n",
       "    .dataframe thead th {\n",
       "        text-align: right;\n",
       "    }\n",
       "</style>\n",
       "<table border=\"1\" class=\"dataframe\">\n",
       "  <thead>\n",
       "    <tr style=\"text-align: right;\">\n",
       "      <th></th>\n",
       "      <th>revenue_day</th>\n",
       "      <th>revenue_30d</th>\n",
       "      <th>revenue_90d</th>\n",
       "    </tr>\n",
       "  </thead>\n",
       "  <tbody>\n",
       "    <tr>\n",
       "      <td>0</td>\n",
       "      <td>1916.55</td>\n",
       "      <td>128142.57</td>\n",
       "      <td>171926.07</td>\n",
       "    </tr>\n",
       "    <tr>\n",
       "      <td>1</td>\n",
       "      <td>4977.82</td>\n",
       "      <td>129760.58</td>\n",
       "      <td>174987.34</td>\n",
       "    </tr>\n",
       "    <tr>\n",
       "      <td>2</td>\n",
       "      <td>4025.87</td>\n",
       "      <td>124343.24</td>\n",
       "      <td>175951.94</td>\n",
       "    </tr>\n",
       "    <tr>\n",
       "      <td>3</td>\n",
       "      <td>4311.70</td>\n",
       "      <td>116459.31</td>\n",
       "      <td>179299.04</td>\n",
       "    </tr>\n",
       "    <tr>\n",
       "      <td>4</td>\n",
       "      <td>5754.47</td>\n",
       "      <td>110118.19</td>\n",
       "      <td>181706.41</td>\n",
       "    </tr>\n",
       "  </tbody>\n",
       "</table>\n",
       "</div>"
      ],
      "text/plain": [
       "   revenue_day  revenue_30d  revenue_90d\n",
       "0      1916.55    128142.57    171926.07\n",
       "1      4977.82    129760.58    174987.34\n",
       "2      4025.87    124343.24    175951.94\n",
       "3      4311.70    116459.31    179299.04\n",
       "4      5754.47    110118.19    181706.41"
      ]
     },
     "execution_count": 295,
     "metadata": {},
     "output_type": "execute_result"
    }
   ],
   "source": [
    "import datetime as dt\n",
    "# get the amount of last ndays revenue given a DataFrame with the data\n",
    "# and a date\n",
    "def getLastTirthyDaysRevenue(df,date,ndays):\n",
    "    # calculate the interval of data to sum\n",
    "    endDate=dt.datetime.strptime(date, '%Y-%m-%d')\n",
    "    startDate=endDate - dt.timedelta(days=ndays)\n",
    "    startS=startDate.strftime('%Y-%m-%d')\n",
    "    revByDay=(df.groupby('date').sum())[['price']]\n",
    "    last_month_amount=revByDay.loc[startS:date,:]['price'].sum()\n",
    "    return last_month_amount\n",
    "    \n",
    "days=df['date'].unique()\n",
    "odf=pd.DataFrame(columns=['revenue_day','revenue_30d','revenue_90d'])\n",
    "for d in days:\n",
    "    odf=odf.append({\n",
    "        'revenue_day':getLastTirthyDaysRevenue(df,d,1),\n",
    "        'revenue_30d':getLastTirthyDaysRevenue(df,d,30),\n",
    "        'revenue_90d':getLastTirthyDaysRevenue(df,d,90),\n",
    "    },ignore_index=True)\n",
    "odf.head()"
   ]
  },
  {
   "cell_type": "code",
   "execution_count": 265,
   "metadata": {},
   "outputs": [
    {
     "data": {
      "text/html": [
       "<div>\n",
       "<style scoped>\n",
       "    .dataframe tbody tr th:only-of-type {\n",
       "        vertical-align: middle;\n",
       "    }\n",
       "\n",
       "    .dataframe tbody tr th {\n",
       "        vertical-align: top;\n",
       "    }\n",
       "\n",
       "    .dataframe thead th {\n",
       "        text-align: right;\n",
       "    }\n",
       "</style>\n",
       "<table border=\"1\" class=\"dataframe\">\n",
       "  <thead>\n",
       "    <tr style=\"text-align: right;\">\n",
       "      <th></th>\n",
       "      <th>Unnamed: 0</th>\n",
       "      <th>country</th>\n",
       "      <th>customer_id</th>\n",
       "      <th>invoice</th>\n",
       "      <th>price</th>\n",
       "      <th>stream_id</th>\n",
       "      <th>times_viewed</th>\n",
       "      <th>year</th>\n",
       "      <th>month</th>\n",
       "      <th>day</th>\n",
       "      <th>date</th>\n",
       "    </tr>\n",
       "  </thead>\n",
       "  <tbody>\n",
       "    <tr>\n",
       "      <td>0</td>\n",
       "      <td>0</td>\n",
       "      <td>United Kingdom</td>\n",
       "      <td>15581.0</td>\n",
       "      <td>493463</td>\n",
       "      <td>2.95</td>\n",
       "      <td>20895</td>\n",
       "      <td>1</td>\n",
       "      <td>2018</td>\n",
       "      <td>1</td>\n",
       "      <td>1</td>\n",
       "      <td>2018-01-01</td>\n",
       "    </tr>\n",
       "    <tr>\n",
       "      <td>1</td>\n",
       "      <td>1</td>\n",
       "      <td>United Kingdom</td>\n",
       "      <td>15581.0</td>\n",
       "      <td>493463</td>\n",
       "      <td>1.25</td>\n",
       "      <td>20866</td>\n",
       "      <td>1</td>\n",
       "      <td>2018</td>\n",
       "      <td>1</td>\n",
       "      <td>1</td>\n",
       "      <td>2018-01-01</td>\n",
       "    </tr>\n",
       "    <tr>\n",
       "      <td>2</td>\n",
       "      <td>2</td>\n",
       "      <td>United Kingdom</td>\n",
       "      <td>15581.0</td>\n",
       "      <td>493463</td>\n",
       "      <td>0.85</td>\n",
       "      <td>85198</td>\n",
       "      <td>12</td>\n",
       "      <td>2018</td>\n",
       "      <td>1</td>\n",
       "      <td>1</td>\n",
       "      <td>2018-01-01</td>\n",
       "    </tr>\n",
       "    <tr>\n",
       "      <td>3</td>\n",
       "      <td>3</td>\n",
       "      <td>United Kingdom</td>\n",
       "      <td>15581.0</td>\n",
       "      <td>493463</td>\n",
       "      <td>2.95</td>\n",
       "      <td>20897</td>\n",
       "      <td>1</td>\n",
       "      <td>2018</td>\n",
       "      <td>1</td>\n",
       "      <td>1</td>\n",
       "      <td>2018-01-01</td>\n",
       "    </tr>\n",
       "    <tr>\n",
       "      <td>4</td>\n",
       "      <td>4</td>\n",
       "      <td>United Kingdom</td>\n",
       "      <td>15581.0</td>\n",
       "      <td>493463</td>\n",
       "      <td>2.95</td>\n",
       "      <td>20898</td>\n",
       "      <td>1</td>\n",
       "      <td>2018</td>\n",
       "      <td>1</td>\n",
       "      <td>1</td>\n",
       "      <td>2018-01-01</td>\n",
       "    </tr>\n",
       "    <tr>\n",
       "      <td>...</td>\n",
       "      <td>...</td>\n",
       "      <td>...</td>\n",
       "      <td>...</td>\n",
       "      <td>...</td>\n",
       "      <td>...</td>\n",
       "      <td>...</td>\n",
       "      <td>...</td>\n",
       "      <td>...</td>\n",
       "      <td>...</td>\n",
       "      <td>...</td>\n",
       "      <td>...</td>\n",
       "    </tr>\n",
       "    <tr>\n",
       "      <td>810552</td>\n",
       "      <td>35050</td>\n",
       "      <td>United Kingdom</td>\n",
       "      <td>13269.0</td>\n",
       "      <td>548708</td>\n",
       "      <td>4.95</td>\n",
       "      <td>23184</td>\n",
       "      <td>2</td>\n",
       "      <td>2019</td>\n",
       "      <td>3</td>\n",
       "      <td>31</td>\n",
       "      <td>2019-03-31</td>\n",
       "    </tr>\n",
       "    <tr>\n",
       "      <td>810553</td>\n",
       "      <td>35051</td>\n",
       "      <td>United Kingdom</td>\n",
       "      <td>13269.0</td>\n",
       "      <td>548708</td>\n",
       "      <td>1.25</td>\n",
       "      <td>47310</td>\n",
       "      <td>1</td>\n",
       "      <td>2019</td>\n",
       "      <td>3</td>\n",
       "      <td>31</td>\n",
       "      <td>2019-03-31</td>\n",
       "    </tr>\n",
       "    <tr>\n",
       "      <td>810554</td>\n",
       "      <td>35052</td>\n",
       "      <td>United Kingdom</td>\n",
       "      <td>13269.0</td>\n",
       "      <td>548708</td>\n",
       "      <td>0.42</td>\n",
       "      <td>79190</td>\n",
       "      <td>9</td>\n",
       "      <td>2019</td>\n",
       "      <td>3</td>\n",
       "      <td>31</td>\n",
       "      <td>2019-03-31</td>\n",
       "    </tr>\n",
       "    <tr>\n",
       "      <td>810555</td>\n",
       "      <td>35053</td>\n",
       "      <td>United Kingdom</td>\n",
       "      <td>13269.0</td>\n",
       "      <td>548708</td>\n",
       "      <td>1.65</td>\n",
       "      <td>22859</td>\n",
       "      <td>1</td>\n",
       "      <td>2019</td>\n",
       "      <td>3</td>\n",
       "      <td>31</td>\n",
       "      <td>2019-03-31</td>\n",
       "    </tr>\n",
       "    <tr>\n",
       "      <td>810556</td>\n",
       "      <td>35054</td>\n",
       "      <td>United Kingdom</td>\n",
       "      <td>13269.0</td>\n",
       "      <td>548708</td>\n",
       "      <td>2.95</td>\n",
       "      <td>85123</td>\n",
       "      <td>3</td>\n",
       "      <td>2019</td>\n",
       "      <td>3</td>\n",
       "      <td>31</td>\n",
       "      <td>2019-03-31</td>\n",
       "    </tr>\n",
       "  </tbody>\n",
       "</table>\n",
       "<p>810557 rows × 11 columns</p>\n",
       "</div>"
      ],
      "text/plain": [
       "        Unnamed: 0         country  customer_id invoice  price  stream_id  \\\n",
       "0                0  United Kingdom      15581.0  493463   2.95      20895   \n",
       "1                1  United Kingdom      15581.0  493463   1.25      20866   \n",
       "2                2  United Kingdom      15581.0  493463   0.85      85198   \n",
       "3                3  United Kingdom      15581.0  493463   2.95      20897   \n",
       "4                4  United Kingdom      15581.0  493463   2.95      20898   \n",
       "...            ...             ...          ...     ...    ...        ...   \n",
       "810552       35050  United Kingdom      13269.0  548708   4.95      23184   \n",
       "810553       35051  United Kingdom      13269.0  548708   1.25      47310   \n",
       "810554       35052  United Kingdom      13269.0  548708   0.42      79190   \n",
       "810555       35053  United Kingdom      13269.0  548708   1.65      22859   \n",
       "810556       35054  United Kingdom      13269.0  548708   2.95      85123   \n",
       "\n",
       "        times_viewed  year  month  day        date  \n",
       "0                  1  2018      1    1  2018-01-01  \n",
       "1                  1  2018      1    1  2018-01-01  \n",
       "2                 12  2018      1    1  2018-01-01  \n",
       "3                  1  2018      1    1  2018-01-01  \n",
       "4                  1  2018      1    1  2018-01-01  \n",
       "...              ...   ...    ...  ...         ...  \n",
       "810552             2  2019      3   31  2019-03-31  \n",
       "810553             1  2019      3   31  2019-03-31  \n",
       "810554             9  2019      3   31  2019-03-31  \n",
       "810555             1  2019      3   31  2019-03-31  \n",
       "810556             3  2019      3   31  2019-03-31  \n",
       "\n",
       "[810557 rows x 11 columns]"
      ]
     },
     "execution_count": 265,
     "metadata": {},
     "output_type": "execute_result"
    }
   ],
   "source": [
    "df"
   ]
  },
  {
   "cell_type": "code",
   "execution_count": 270,
   "metadata": {},
   "outputs": [
    {
     "data": {
      "text/plain": [
       "'2018-01-01'"
      ]
     },
     "execution_count": 270,
     "metadata": {},
     "output_type": "execute_result"
    }
   ],
   "source": [
    "dd=df.iloc[0].date\n",
    "dd"
   ]
  },
  {
   "cell_type": "code",
   "execution_count": 274,
   "metadata": {},
   "outputs": [],
   "source": [
    "dd2=dt.datetime.strptime(dd, '%Y-%m-%d')"
   ]
  },
  {
   "cell_type": "code",
   "execution_count": 275,
   "metadata": {},
   "outputs": [
    {
     "data": {
      "text/plain": [
       "datetime.datetime"
      ]
     },
     "execution_count": 275,
     "metadata": {},
     "output_type": "execute_result"
    }
   ],
   "source": [
    "type(dd2)"
   ]
  },
  {
   "cell_type": "code",
   "execution_count": 273,
   "metadata": {},
   "outputs": [
    {
     "data": {
      "text/html": [
       "<div>\n",
       "<style scoped>\n",
       "    .dataframe tbody tr th:only-of-type {\n",
       "        vertical-align: middle;\n",
       "    }\n",
       "\n",
       "    .dataframe tbody tr th {\n",
       "        vertical-align: top;\n",
       "    }\n",
       "\n",
       "    .dataframe thead th {\n",
       "        text-align: right;\n",
       "    }\n",
       "</style>\n",
       "<table border=\"1\" class=\"dataframe\">\n",
       "  <thead>\n",
       "    <tr style=\"text-align: right;\">\n",
       "      <th></th>\n",
       "      <th>Unnamed: 0</th>\n",
       "      <th>country</th>\n",
       "      <th>customer_id</th>\n",
       "      <th>invoice</th>\n",
       "      <th>price</th>\n",
       "      <th>stream_id</th>\n",
       "      <th>times_viewed</th>\n",
       "      <th>year</th>\n",
       "      <th>month</th>\n",
       "      <th>day</th>\n",
       "      <th>date</th>\n",
       "    </tr>\n",
       "  </thead>\n",
       "  <tbody>\n",
       "    <tr>\n",
       "      <td>0</td>\n",
       "      <td>0</td>\n",
       "      <td>United Kingdom</td>\n",
       "      <td>15581.0</td>\n",
       "      <td>493463</td>\n",
       "      <td>2.95</td>\n",
       "      <td>20895</td>\n",
       "      <td>1</td>\n",
       "      <td>2018</td>\n",
       "      <td>1</td>\n",
       "      <td>1</td>\n",
       "      <td>2018-01-01</td>\n",
       "    </tr>\n",
       "    <tr>\n",
       "      <td>1</td>\n",
       "      <td>1</td>\n",
       "      <td>United Kingdom</td>\n",
       "      <td>15581.0</td>\n",
       "      <td>493463</td>\n",
       "      <td>1.25</td>\n",
       "      <td>20866</td>\n",
       "      <td>1</td>\n",
       "      <td>2018</td>\n",
       "      <td>1</td>\n",
       "      <td>1</td>\n",
       "      <td>2018-01-01</td>\n",
       "    </tr>\n",
       "    <tr>\n",
       "      <td>2</td>\n",
       "      <td>2</td>\n",
       "      <td>United Kingdom</td>\n",
       "      <td>15581.0</td>\n",
       "      <td>493463</td>\n",
       "      <td>0.85</td>\n",
       "      <td>85198</td>\n",
       "      <td>12</td>\n",
       "      <td>2018</td>\n",
       "      <td>1</td>\n",
       "      <td>1</td>\n",
       "      <td>2018-01-01</td>\n",
       "    </tr>\n",
       "    <tr>\n",
       "      <td>3</td>\n",
       "      <td>3</td>\n",
       "      <td>United Kingdom</td>\n",
       "      <td>15581.0</td>\n",
       "      <td>493463</td>\n",
       "      <td>2.95</td>\n",
       "      <td>20897</td>\n",
       "      <td>1</td>\n",
       "      <td>2018</td>\n",
       "      <td>1</td>\n",
       "      <td>1</td>\n",
       "      <td>2018-01-01</td>\n",
       "    </tr>\n",
       "    <tr>\n",
       "      <td>4</td>\n",
       "      <td>4</td>\n",
       "      <td>United Kingdom</td>\n",
       "      <td>15581.0</td>\n",
       "      <td>493463</td>\n",
       "      <td>2.95</td>\n",
       "      <td>20898</td>\n",
       "      <td>1</td>\n",
       "      <td>2018</td>\n",
       "      <td>1</td>\n",
       "      <td>1</td>\n",
       "      <td>2018-01-01</td>\n",
       "    </tr>\n",
       "    <tr>\n",
       "      <td>...</td>\n",
       "      <td>...</td>\n",
       "      <td>...</td>\n",
       "      <td>...</td>\n",
       "      <td>...</td>\n",
       "      <td>...</td>\n",
       "      <td>...</td>\n",
       "      <td>...</td>\n",
       "      <td>...</td>\n",
       "      <td>...</td>\n",
       "      <td>...</td>\n",
       "      <td>...</td>\n",
       "    </tr>\n",
       "    <tr>\n",
       "      <td>810552</td>\n",
       "      <td>35050</td>\n",
       "      <td>United Kingdom</td>\n",
       "      <td>13269.0</td>\n",
       "      <td>548708</td>\n",
       "      <td>4.95</td>\n",
       "      <td>23184</td>\n",
       "      <td>2</td>\n",
       "      <td>2019</td>\n",
       "      <td>3</td>\n",
       "      <td>31</td>\n",
       "      <td>2019-03-31</td>\n",
       "    </tr>\n",
       "    <tr>\n",
       "      <td>810553</td>\n",
       "      <td>35051</td>\n",
       "      <td>United Kingdom</td>\n",
       "      <td>13269.0</td>\n",
       "      <td>548708</td>\n",
       "      <td>1.25</td>\n",
       "      <td>47310</td>\n",
       "      <td>1</td>\n",
       "      <td>2019</td>\n",
       "      <td>3</td>\n",
       "      <td>31</td>\n",
       "      <td>2019-03-31</td>\n",
       "    </tr>\n",
       "    <tr>\n",
       "      <td>810554</td>\n",
       "      <td>35052</td>\n",
       "      <td>United Kingdom</td>\n",
       "      <td>13269.0</td>\n",
       "      <td>548708</td>\n",
       "      <td>0.42</td>\n",
       "      <td>79190</td>\n",
       "      <td>9</td>\n",
       "      <td>2019</td>\n",
       "      <td>3</td>\n",
       "      <td>31</td>\n",
       "      <td>2019-03-31</td>\n",
       "    </tr>\n",
       "    <tr>\n",
       "      <td>810555</td>\n",
       "      <td>35053</td>\n",
       "      <td>United Kingdom</td>\n",
       "      <td>13269.0</td>\n",
       "      <td>548708</td>\n",
       "      <td>1.65</td>\n",
       "      <td>22859</td>\n",
       "      <td>1</td>\n",
       "      <td>2019</td>\n",
       "      <td>3</td>\n",
       "      <td>31</td>\n",
       "      <td>2019-03-31</td>\n",
       "    </tr>\n",
       "    <tr>\n",
       "      <td>810556</td>\n",
       "      <td>35054</td>\n",
       "      <td>United Kingdom</td>\n",
       "      <td>13269.0</td>\n",
       "      <td>548708</td>\n",
       "      <td>2.95</td>\n",
       "      <td>85123</td>\n",
       "      <td>3</td>\n",
       "      <td>2019</td>\n",
       "      <td>3</td>\n",
       "      <td>31</td>\n",
       "      <td>2019-03-31</td>\n",
       "    </tr>\n",
       "  </tbody>\n",
       "</table>\n",
       "<p>810557 rows × 11 columns</p>\n",
       "</div>"
      ],
      "text/plain": [
       "        Unnamed: 0         country  customer_id invoice  price  stream_id  \\\n",
       "0                0  United Kingdom      15581.0  493463   2.95      20895   \n",
       "1                1  United Kingdom      15581.0  493463   1.25      20866   \n",
       "2                2  United Kingdom      15581.0  493463   0.85      85198   \n",
       "3                3  United Kingdom      15581.0  493463   2.95      20897   \n",
       "4                4  United Kingdom      15581.0  493463   2.95      20898   \n",
       "...            ...             ...          ...     ...    ...        ...   \n",
       "810552       35050  United Kingdom      13269.0  548708   4.95      23184   \n",
       "810553       35051  United Kingdom      13269.0  548708   1.25      47310   \n",
       "810554       35052  United Kingdom      13269.0  548708   0.42      79190   \n",
       "810555       35053  United Kingdom      13269.0  548708   1.65      22859   \n",
       "810556       35054  United Kingdom      13269.0  548708   2.95      85123   \n",
       "\n",
       "        times_viewed  year  month  day        date  \n",
       "0                  1  2018      1    1  2018-01-01  \n",
       "1                  1  2018      1    1  2018-01-01  \n",
       "2                 12  2018      1    1  2018-01-01  \n",
       "3                  1  2018      1    1  2018-01-01  \n",
       "4                  1  2018      1    1  2018-01-01  \n",
       "...              ...   ...    ...  ...         ...  \n",
       "810552             2  2019      3   31  2019-03-31  \n",
       "810553             1  2019      3   31  2019-03-31  \n",
       "810554             9  2019      3   31  2019-03-31  \n",
       "810555             1  2019      3   31  2019-03-31  \n",
       "810556             3  2019      3   31  2019-03-31  \n",
       "\n",
       "[810557 rows x 11 columns]"
      ]
     },
     "execution_count": 273,
     "metadata": {},
     "output_type": "execute_result"
    }
   ],
   "source": [
    "df"
   ]
  },
  {
   "cell_type": "code",
   "execution_count": 277,
   "metadata": {},
   "outputs": [
    {
     "data": {
      "text/plain": [
       "'2018-01-01'"
      ]
     },
     "execution_count": 277,
     "metadata": {},
     "output_type": "execute_result"
    }
   ],
   "source": [
    "dd2.strftime('%Y-%m-%d')"
   ]
  },
  {
   "cell_type": "code",
   "execution_count": 278,
   "metadata": {},
   "outputs": [],
   "source": [
    "revByDay=(df.groupby('date').sum())[['price']]"
   ]
  },
  {
   "cell_type": "code",
   "execution_count": 296,
   "metadata": {},
   "outputs": [
    {
     "data": {
      "text/plain": [
       "12675.240000000293"
      ]
     },
     "execution_count": 296,
     "metadata": {},
     "output_type": "execute_result"
    }
   ],
   "source": [
    "revByDay.loc['2017-11-28':'2017-11-28',:]['price'].sum()"
   ]
  },
  {
   "cell_type": "code",
   "execution_count": 307,
   "metadata": {},
   "outputs": [
    {
     "name": "stdout",
     "output_type": "stream",
     "text": [
      "['United Kingdom' 'EIRE' 'Germany' 'France' 'Netherlands' 'Spain'\n",
      " 'Switzerland' 'Belgium' 'Channel Islands' 'Portugal']\n"
     ]
    }
   ],
   "source": [
    "revenueByCountry = (df.groupby('country').sum())[['price']]\n",
    "revenueByCountry.rename(columns={'price': 'revenue'}, inplace=True)\n",
    "revenueByCountry = revenueByCountry.sort_values(\n",
    "    by=['revenue'], ascending=False)\n",
    "revenueByCountry = revenueByCountry.head(10)\n",
    "\n",
    "countries = revenueByCountry.index.unique().values\n",
    "print(countries)"
   ]
  },
  {
   "cell_type": "code",
   "execution_count": 309,
   "metadata": {},
   "outputs": [],
   "source": [
    "dates=df.date.unique()"
   ]
  },
  {
   "cell_type": "code",
   "execution_count": 310,
   "metadata": {},
   "outputs": [
    {
     "data": {
      "text/plain": [
       "'2017-11-28'"
      ]
     },
     "execution_count": 310,
     "metadata": {},
     "output_type": "execute_result"
    }
   ],
   "source": [
    "df.date.min()"
   ]
  },
  {
   "cell_type": "code",
   "execution_count": 311,
   "metadata": {},
   "outputs": [
    {
     "data": {
      "text/plain": [
       "'2019-07-31'"
      ]
     },
     "execution_count": 311,
     "metadata": {},
     "output_type": "execute_result"
    }
   ],
   "source": [
    "df.date.max()"
   ]
  },
  {
   "cell_type": "code",
   "execution_count": 312,
   "metadata": {},
   "outputs": [],
   "source": [
    "d1=dt.datetime(2017,11,28)\n",
    "d2=dt.datetime(2019,7,31)"
   ]
  },
  {
   "cell_type": "code",
   "execution_count": 314,
   "metadata": {},
   "outputs": [
    {
     "data": {
      "text/plain": [
       "610"
      ]
     },
     "execution_count": 314,
     "metadata": {},
     "output_type": "execute_result"
    }
   ],
   "source": [
    "(d2-d1).days"
   ]
  },
  {
   "cell_type": "code",
   "execution_count": null,
   "metadata": {},
   "outputs": [],
   "source": []
  }
 ],
 "metadata": {
  "kernelspec": {
   "display_name": "Python 3",
   "language": "python",
   "name": "python3"
  },
  "language_info": {
   "codemirror_mode": {
    "name": "ipython",
    "version": 3
   },
   "file_extension": ".py",
   "mimetype": "text/x-python",
   "name": "python",
   "nbconvert_exporter": "python",
   "pygments_lexer": "ipython3",
   "version": "3.7.4"
  }
 },
 "nbformat": 4,
 "nbformat_minor": 4
}
